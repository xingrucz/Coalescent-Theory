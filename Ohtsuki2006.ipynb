{
 "cells": [
  {
   "cell_type": "markdown",
   "id": "056bf0e5-9ed0-4354-b3b7-88c9d144d95d",
   "metadata": {},
   "source": [
    "# A simple rule for the evolution of cooperation on graphs and social networks (SI)"
   ]
  },
  {
   "cell_type": "markdown",
   "id": "2abbbd98-28ca-47ba-a1f3-44972671f180",
   "metadata": {},
   "source": [
    "## Initialization"
   ]
  },
  {
   "cell_type": "code",
   "execution_count": 77,
   "id": "43c965e3-fd31-4e04-888c-80f4349e5b0c",
   "metadata": {},
   "outputs": [],
   "source": [
    "# import modules\n",
    "import numpy as np\n",
    "import pandas as pd\n",
    "import time\n",
    "from sympy import *\n",
    "from sympy.abc import i, j, N, n \n",
    "## compress warnings\n",
    "import warnings\n",
    "warnings.filterwarnings('ignore')"
   ]
  },
  {
   "cell_type": "code",
   "execution_count": 78,
   "id": "e95c2682-36ba-4ed1-898b-72d46471847f",
   "metadata": {},
   "outputs": [],
   "source": [
    "# save figures in the folder\n",
    "_Figure_PATH_ = './figures/'\n",
    "_Data_PATH_ = './data/'\n",
    "\n",
    "# default colors of matplotlib\n",
    "colors = ['C0', '#ff7f0e', '#2ca02c', '#d62728', '#9467bd', '#8c564b', '#e377c2', '#7f7f7f', '#bcbd22', \n",
    "          '#17becf']"
   ]
  },
  {
   "cell_type": "markdown",
   "id": "a0ce3d21-7c1b-4a3e-8447-d01a5c621ecc",
   "metadata": {},
   "source": [
    "## Symbolic Calculation"
   ]
  },
  {
   "cell_type": "code",
   "execution_count": 79,
   "id": "93adb871-86ac-4940-a65e-960874a44a99",
   "metadata": {},
   "outputs": [],
   "source": [
    "R, S, T, P = symbols('R, S, T, P', real = True) # payoff structure\n",
    "a, b, c, d = symbols('a, b, c, d', real = True) # payoff structure\n",
    "omega = symbols('omega', positive = True) # selection strength\n",
    "k = symbols('k', integer = True, positive = True) # network degree\n",
    "# fractions of stratey A and strategy B\n",
    "p_A, p_B = symbols('p_A, p_B', positive = True) \n",
    "# fractions of edges\n",
    "p_AA, p_AB, p_BA, p_BB = symbols('p_AA, p_AB, p_BA, p_BB', positive = True)\n",
    "# conditional probabilities: q_X|Y is the probability of X given Y\n",
    "q_AA, q_BA, q_AB, q_BB = symbols('q_A|A, q_B|A, q_A|B, q_B|B', positive = True)\n",
    "# conditional numbers of neighbors:\n",
    "k_AA, k_BA = symbols('k^A_A, k^B_A', integer = True, nonnegative = True) \n",
    "k_AB, k_BB = symbols('k^A_B, k^B_B', integer = True, nonnegative = True)\n",
    "init_printing(use_unicode = True) # for a good presentation of mathematics"
   ]
  },
  {
   "cell_type": "markdown",
   "id": "215ddbef-f8f6-4ec4-90cd-c18b0f04424f",
   "metadata": {},
   "source": [
    "### 🌷 equation (2) 🌷"
   ]
  },
  {
   "cell_type": "code",
   "execution_count": 80,
   "id": "bdc9fa52-cdcb-48d5-8b65-c3d0c11418bc",
   "metadata": {},
   "outputs": [],
   "source": [
    "# identities \n",
    "# p_A + p_B = 1\n",
    "# q_AA + q_BA = 1, q_AB + q_BB = 1\n",
    "# p_AA = q_AA*p_A, p_BA = q_BA*p_A, p_AB = q_AB*p_B, p_BB = q_BB*p_B\n",
    "# p_AB = p_BA"
   ]
  },
  {
   "cell_type": "markdown",
   "id": "516546dc-48f1-4d0a-95f3-8e7833c8c4f7",
   "metadata": {},
   "source": [
    "## Fitness\n",
    "\n",
    "### neighbors of a focal B player\n",
    "\n",
    "* $f_A$ of each A-player\n",
    "* $f_B$ of each B-player\n",
    "\n",
    "### neighbors of a focal A player\n",
    "\n",
    "* $g_A$ of each A-player\n",
    "* $g_B$ of each B-player"
   ]
  },
  {
   "cell_type": "markdown",
   "id": "aaf7f485-602c-4ac4-a43a-00a1a1eedc25",
   "metadata": {},
   "source": [
    "### 🌷 equation (3-4) & (7-8) 🌷"
   ]
  },
  {
   "cell_type": "code",
   "execution_count": 81,
   "id": "dd3b9eaf-21cf-4890-a246-ae80e4fbc213",
   "metadata": {},
   "outputs": [],
   "source": [
    "f_A = (1 - omega) + omega*((k - 1)*q_AA*a + ((k - 1)*q_BA + 1)*b) # fitness of A|B\n",
    "f_B = (1 - omega) + omega*((k - 1)*q_AB*c + ((k - 1)*q_BB + 1)*d) # fitness of B|B\n",
    "\n",
    "g_A = (1 - omega) + omega*(((k - 1)*q_AA + 1)*a + (k - 1)*q_BA*b) # fitness of A|A\n",
    "g_B = (1 - omega) + omega*(((k - 1)*q_AB + 1)*c + (k - 1)*q_BB*d) # fitness of B|A"
   ]
  },
  {
   "cell_type": "markdown",
   "id": "6e744423-9be3-48c1-b8bd-4f3bbb5757cd",
   "metadata": {},
   "source": [
    "## Update\n",
    "\n",
    "### change of $p_A$\n",
    "\n",
    "> $\\dot{p}_A = 1/N\\cdot P(\\Delta p_A = 1/N) - 1/N\\cdot P(\\Delta p_A = -1/N)$\n",
    "\n",
    "### change of $p_{AA}$"
   ]
  },
  {
   "cell_type": "markdown",
   "id": "be2634d0-4341-4599-b591-c0f785eb7f38",
   "metadata": {},
   "source": [
    "### 🍨 Expectation 🍨\n",
    "\n",
    "> #### under binomial distributions\n",
    "\n",
    "* $k_{AB}$\n",
    "* $k_{AB}^2$"
   ]
  },
  {
   "cell_type": "code",
   "execution_count": 82,
   "id": "3e4ddad8-53fc-41e3-999f-0aa5b503cc79",
   "metadata": {},
   "outputs": [],
   "source": [
    "# binomial distributions\n",
    "## neighbors\n",
    "### of an A individual\n",
    "dist_A = binomial(k, k_AA)*q_AA**k_AA*(1 - q_AA)**(k - k_AA) \n",
    "### of a B individual\n",
    "dist_B = binomial(k, k_AB)*q_AB**k_AB*(1 - q_AB)**(k - k_AB)"
   ]
  },
  {
   "cell_type": "code",
   "execution_count": 83,
   "id": "7abc792d-4c0c-4612-b4b7-0c58ac80200d",
   "metadata": {},
   "outputs": [
    {
     "data": {
      "image/png": "[encoded data removed]",
      "text/latex": [
       "$\\displaystyle \\left[ 1, \\  k q_{A|A}, \\  k q_{A|A} \\left(k q_{A|A} - q_{A|A} + 1\\right), \\  k q_{A|A} \\left(k^{2} q_{A|A}^{2} - 3 k q_{A|A}^{2} + 3 k q_{A|A} + 2 q_{A|A}^{2} - 3 q_{A|A} + 1\\right)\\right]$"
      ],
      "text/plain": [
       "⎡                                                   ⎛ 2      2            2   \n",
       "⎣1, k⋅q_A|A, k⋅q_A|A⋅(k⋅q_A|A - q_A|A + 1), k⋅q_A|A⋅⎝k ⋅q_A|A  - 3⋅k⋅q_A|A  + \n",
       "\n",
       "                   2              ⎞⎤\n",
       "3⋅k⋅q_A|A + 2⋅q_A|A  - 3⋅q_A|A + 1⎠⎦"
      ]
     },
     "execution_count": 83,
     "metadata": {},
     "output_type": "execute_result"
    }
   ],
   "source": [
    "# 1, k_AA and k_AA**2\n",
    "E_A = [simplify(summation(k_AA**i*dist_A, (k_AA, 0, k)).args[0].args[0]) for i in range(4)]\n",
    "E_A"
   ]
  },
  {
   "cell_type": "code",
   "execution_count": 84,
   "id": "de378f21-a6bd-4bc7-9eb0-fb1d1a020698",
   "metadata": {},
   "outputs": [
    {
     "data": {
      "image/png": "[encoded data removed]",
      "text/latex": [
       "$\\displaystyle \\left[ 1, \\  k q_{A|B}, \\  k q_{A|B} \\left(k q_{A|B} - q_{A|B} + 1\\right), \\  k q_{A|B} \\left(k^{2} q_{A|B}^{2} - 3 k q_{A|B}^{2} + 3 k q_{A|B} + 2 q_{A|B}^{2} - 3 q_{A|B} + 1\\right)\\right]$"
      ],
      "text/plain": [
       "⎡                                                   ⎛ 2      2            2   \n",
       "⎣1, k⋅q_A|B, k⋅q_A|B⋅(k⋅q_A|B - q_A|B + 1), k⋅q_A|B⋅⎝k ⋅q_A|B  - 3⋅k⋅q_A|B  + \n",
       "\n",
       "                   2              ⎞⎤\n",
       "3⋅k⋅q_A|B + 2⋅q_A|B  - 3⋅q_A|B + 1⎠⎦"
      ]
     },
     "execution_count": 84,
     "metadata": {},
     "output_type": "execute_result"
    }
   ],
   "source": [
    "# 1, k_AB, and k_AB**2\n",
    "E_B = [simplify(summation(k_AB**i*dist_B, (k_AB, 0, k)).args[0].args[0]) for i in range(4)]\n",
    "E_B"
   ]
  },
  {
   "cell_type": "markdown",
   "id": "847ddd49-34bc-492c-8cbd-e37e74725307",
   "metadata": {},
   "source": [
    "### 🌷 equation (5-6) & (9-12) 🌷"
   ]
  },
  {
   "cell_type": "code",
   "execution_count": 85,
   "id": "3ff61d04-e83e-4e18-a125-9403533896a9",
   "metadata": {},
   "outputs": [],
   "source": [
    "core = factor(k_AB*f_A/(k_AB*f_A + k_BB*f_B))\n",
    "core = core.series(omega, x0 = 0, n = 2).as_ordered_terms() # linear term, constant term and O (omega**2)\n",
    "core_A_plus = [collect(expand(factor(core[j].subs({k_BB: k - k_AB}))), k_AB) for j in [1, 0]] # constant term and linear term\n",
    "p_A_plus = [p_B*factor(np.sum([core_A_plus[j].coeff(k_AB, i)*E_B[i] for i in range(3)])) for j in range(2)] # equation (5)\n",
    "core_AA_plus = [collect(expand(2*k_AB/(k*N)*factor(core[j].subs({k_BB: k - k_AB}))), k_AB) for j in [1, 0]]\n",
    "p_AA_plus = [p_B*factor(np.sum([core_AA_plus[j].coeff(k_AB, i)*E_B[i] for i in range(4)])) for j in range(2)] # equation (6)"
   ]
  },
  {
   "cell_type": "code",
   "execution_count": 86,
   "id": "c13c4b39-8769-420a-8d53-5f8eeaabf784",
   "metadata": {},
   "outputs": [],
   "source": [
    "core = factor(k_BA*g_B/(k_AA*g_A + k_BA*g_B))\n",
    "core = core.series(omega, x0 = 0, n = 2).as_ordered_terms() # linear term, constant term and O(omega**2)\n",
    "core_A_minus = [collect(expand(factor(core[j].subs({k_BA: k - k_AA}))), k_AA) for j in [1, 0]] # constant term and linear term\n",
    "p_A_minus = [p_A*factor(np.sum([core_A_minus[j].coeff(k_AA, i)*E_A[i] for i in range(3)])) for j in range(2)] # equation (9)\n",
    "core_AA_minus = [collect(expand(2*k_AA/(k*N)*factor(core[j].subs({k_BA: k - k_AA}))), k_AA) for j in [1, 0]]\n",
    "p_AA_minus = [p_A*factor(np.sum([core_AA_minus[j].coeff(k_AA, i)*E_A[i] for i in range(4)])) for j in range(2)] # equation (10)"
   ]
  },
  {
   "cell_type": "code",
   "execution_count": 87,
   "id": "ee42b120-be19-41be-b83b-0ec4cb575211",
   "metadata": {},
   "outputs": [],
   "source": [
    "# diff_p_A = [simplify(1/N*(x - y)) for x, y in zip(p_A_plus, p_A_minus)] # equation (11)\n",
    "# diff_p_AA = [simplify(x - y) for x, y in zip(p_AA_plus, p_AA_minus)] # equation (12)\n",
    "# # constant term of diff_p_A is zero\n",
    "# diff_p_A[0].subs({q_AA: 1 - q_BA}).subs({p_A: p_BA/q_BA, p_B: p_AB/q_AB}).subs({p_BA: p_AB}) "
   ]
  },
  {
   "cell_type": "code",
   "execution_count": 88,
   "id": "073ef726-6450-4c85-bfa4-ed23d0e35024",
   "metadata": {},
   "outputs": [],
   "source": [
    "p_A_plus = np.sum([p_A_plus[j].subs({p_B: p_AB/q_AB}) for j in range(2)])\n",
    "p_A_minus = np.sum([p_A_minus[j].subs({p_A: p_BA/q_BA}) for j in range(2)])\n",
    "diff_p_A = simplify(1/N*(p_A_plus - p_A_minus)) # equation (11)\n",
    "\n",
    "p_AA_plus = np.sum([p_AA_plus[j].subs({p_B: p_AB/q_AB}) for j in range(2)])\n",
    "p_AA_minus = np.sum([p_AA_minus[j].subs({p_A: p_BA/q_BA}) for j in range(2)])\n",
    "diff_p_AA = simplify(p_AA_plus - p_AA_minus) # equation (12)"
   ]
  },
  {
   "cell_type": "code",
   "execution_count": 89,
   "id": "14d3bf1a-30e8-44f2-9ce2-e9faef7d41e1",
   "metadata": {},
   "outputs": [
    {
     "data": {
      "image/png": "[encoded data removed]",
      "text/latex": [
       "$\\displaystyle 0$"
      ],
      "text/plain": [
       "0"
      ]
     },
     "execution_count": 89,
     "metadata": {},
     "output_type": "execute_result"
    }
   ],
   "source": [
    "# constant term of diff_p_A is zero\n",
    "factor(diff_p_A.subs({omega: 0}).subs({p_BA: p_AB}).subs({q_BA: 1 - q_AA}))"
   ]
  },
  {
   "cell_type": "markdown",
   "id": "4d875fad-c4da-4f5d-bdf0-5126c796934c",
   "metadata": {},
   "source": [
    "### 🌷 equation (14) 🌷"
   ]
  },
  {
   "cell_type": "code",
   "execution_count": 90,
   "id": "f6e2c026-94e4-41ef-80db-ae968d4a9920",
   "metadata": {},
   "outputs": [
    {
     "data": {
      "image/png": "[encoded data removed]",
      "text/latex": [
       "$\\displaystyle k q_{A|A} - k q_{A|B} - q_{A|A} + q_{A|B} - 1$"
      ],
      "text/plain": [
       "k⋅q_A|A - k⋅q_A|B - q_A|A + q_A|B - 1"
      ]
     },
     "execution_count": 90,
     "metadata": {},
     "output_type": "execute_result"
    }
   ],
   "source": [
    "identity_0 = factor(diff_p_AA.subs({omega: 0}).subs({p_BA: p_AB}).subs({q_BA: 1 - q_AA}))\n",
    "identity_0 = factor_list(fraction(identity_0)[0])[1][1][0]\n",
    "identity_0"
   ]
  },
  {
   "cell_type": "markdown",
   "id": "745ec914-b0a6-46e2-af32-c2db9e865a10",
   "metadata": {},
   "source": [
    "### 🌷 equation (16) 🌷"
   ]
  },
  {
   "cell_type": "code",
   "execution_count": 91,
   "id": "3848a81f-d009-45d0-a8f4-5a3806a46dc6",
   "metadata": {},
   "outputs": [
    {
     "data": {
      "image/png": "[encoded data removed]",
      "text/latex": [
       "$\\displaystyle k p_{A} - k q_{A|A} - 2 p_{A} + q_{A|A} + 1$"
      ],
      "text/plain": [
       "k⋅p_A - k⋅q_A|A - 2⋅p_A + q_A|A + 1"
      ]
     },
     "execution_count": 91,
     "metadata": {},
     "output_type": "execute_result"
    }
   ],
   "source": [
    "identity_1 = fraction(factor(identity_0.subs({q_AB: p_A/p_B*q_BA}).subs({q_BA: 1 - q_AA}).subs({p_B: 1 - p_A})))[0]\n",
    "identity_1"
   ]
  },
  {
   "cell_type": "markdown",
   "id": "939ca0e3-615c-4a28-b786-28faa2f35c1c",
   "metadata": {},
   "source": [
    "## fixation probability\n",
    "\n",
    "given $i$ A individuals\n",
    "> * the probability that the number of A individuals reduces by one is $T_A^{-}(i)$\n",
    "> * the probability that the number of A individuals increases by one is $T_A^{+}(i)$\n",
    "\n",
    "\\begin{dcases}\n",
    "T_A^{-}(i) &= p_A\\frac{kq_{BA}(i)g_B(i)}{kq_{AA}(i)g_A(i) + kq_{BA}g_B(i)} = p_A\\frac{q_{BA}(i)g_B(i)}{q_{AA}(i)g_A(i) + q_{BA}g_B(i)}\\\\\n",
    "T_A^{+}(i) &= p_B\\frac{kq_{AB}(i)f_A(i)}{kq_{AB}(i)f_A(i) + kq_{BB}f_B(i)} = p_B\\frac{q_{AB}(i)f_A(i)}{q_{AB}(i)f_A(i) + q_{BB}f_B(i)}\n",
    "\\end{dcases}\n",
    "\n",
    "further (see Evolutionary Dynamics: Exploring the Equation of Life)\n",
    "\n",
    "\\begin{equation}\n",
    "\\rho_A = 1/\\left[1 + \\sum_{i = 1}^{N - 1}\\prod_{j = 1}^{i}T_A^{-}(j)/T_A^{+}(j)\\right]\n",
    "\\end{equation}"
   ]
  },
  {
   "cell_type": "code",
   "execution_count": 92,
   "id": "3ae618f1-a552-4390-b7ce-07b2673fa99a",
   "metadata": {},
   "outputs": [],
   "source": [
    "T_A_backward = p_A*q_BA*g_B/(q_AA*g_A + q_BA*g_B) \n",
    "T_A_forward = p_B*q_AB*f_A/(q_AB*f_A + q_BB*f_B)"
   ]
  },
  {
   "cell_type": "code",
   "execution_count": 93,
   "id": "af16f140-18d4-44db-a063-726232549204",
   "metadata": {},
   "outputs": [],
   "source": [
    "# p_AB = p_A*q_BA = p_B*q_AB, 1 = p_A + p_B = q_AA + q_BA = q_AB + q_BB\n",
    "ratio = factor(T_A_backward/T_A_forward).series(omega, x0 = 0, n = 2) # Taylor expansion\n",
    "ratio = ratio.removeO()\n",
    "ratio = factor(ratio.subs({p_A: p_AB/q_BA, p_B: p_AB/q_AB, q_BA: 1 - q_AA, q_AB: 1 - q_BB}))"
   ]
  },
  {
   "cell_type": "code",
   "execution_count": 94,
   "id": "99175fea-cb2e-4e10-8006-ac695f437315",
   "metadata": {},
   "outputs": [],
   "source": [
    "# substitutions\n",
    "q_AA_sub = p_A + 1/(k - 1) - p_A/(k - 1) # Equation (16)\n",
    "q_BB_sub = p_B + 1/(k - 1) - p_B/(k - 1) # similar to Equation (16)\n",
    "q_BA_sub = q_BB_sub - 1/(k - 1) # Equation (17)\n",
    "q_AB_sub = q_AA_sub - 1/(k - 1) # Equation (17)\n",
    "ratio = factor(ratio.subs({q_AA: q_AA_sub, q_BA: q_BA_sub, q_AB: q_AB_sub, q_BB: q_BB_sub}))"
   ]
  },
  {
   "cell_type": "markdown",
   "id": "99323d40-328a-4ab7-862b-7c78425e6ca7",
   "metadata": {},
   "source": [
    "### from discrete to continuous\n",
    "\n",
    "> Riemann sum to Riemann integral\n",
    "> \n",
    "> 🍨 $\\omega \\sigma_{ij} = 1 - \\text{ratio}$ 🍨\n",
    "\n",
    "\\begin{aligned}\n",
    "\\rho_A &= 1/[1 + \\displaystyle\\sum_{i = 1}^{N - 1}\\displaystyle\\prod_{j = 1}^{i}(1 - \\omega\\sigma_{ij})] \\\\\n",
    "&\\approx 1/[1 + \\displaystyle\\sum_{i = 1}^{N - 1}(1 - \\displaystyle\\sum_{j = 1}^{i}\\omega\\sigma_{ij})] = 1/(N - \\displaystyle\\sum_{i = 1}^{N - 1}\\displaystyle\\sum_{j = 1}^{i}\\omega\\sigma_{ij}) \\\\\n",
    "&\\approx 1/N + (\\displaystyle\\sum_{i = 1}^{N - 1}\\displaystyle\\sum_{j = 1}^{i}\\omega\\sigma_{ij})/N^2 \n",
    "= 1/N + (\\displaystyle\\sum_{i = 1}^{N - 1}\\displaystyle\\sum_{j = 1}^{i}\\omega\\sigma_{ij}dydx)/(N^2dydx) \n",
    "\\end{aligned}\n",
    "\n",
    "> 🍨 $\\rho_A \\approx 1/N + (\\int_{0}^{1}\\int_{0}^{x}\\beta\\sigma_{ij}dydx)/(N^2dydx) \n",
    "= 1/N + (\\int_{0}^{1}\\int_{0}^{x}\\beta\\sigma_{ij}dydx)$ 🍨"
   ]
  },
  {
   "cell_type": "code",
   "execution_count": 95,
   "id": "6bac05a3-9317-4821-8d8f-f22ee4cc2980",
   "metadata": {},
   "outputs": [
    {
     "data": {
      "image/png": "[encoded data removed]",
      "text/latex": [
       "$\\displaystyle \\frac{\\omega \\left(a k^{2} + 2 a k + a + 2 b k^{2} - 2 b k - b - c k^{2} + c k - c - 2 d k^{2} - d k + d\\right)}{6 \\left(k - 1\\right)}$"
      ],
      "text/plain": [
       "  ⎛   2                    2                  2                  2          ⎞\n",
       "ω⋅⎝a⋅k  + 2⋅a⋅k + a + 2⋅b⋅k  - 2⋅b⋅k - b - c⋅k  + c⋅k - c - 2⋅d⋅k  - d⋅k + d⎠\n",
       "─────────────────────────────────────────────────────────────────────────────\n",
       "                                  6⋅(k - 1)                                  "
      ]
     },
     "execution_count": 95,
     "metadata": {},
     "output_type": "execute_result"
    }
   ],
   "source": [
    "x, y = symbols('x, y', nonnegative = True)\n",
    "ratio = factor(ratio.subs({p_A: x, p_B: (1 - x)}))\n",
    "addition_A = factor(integrate(integrate((1 - ratio).subs({x: y}), (y, 0, x)), (x, 0, 1))) # rho_A - 1/N\n",
    "addition_A"
   ]
  },
  {
   "cell_type": "markdown",
   "id": "059ad302-4e89-4ad8-8c82-8554f4e4f96d",
   "metadata": {},
   "source": [
    "### 🌷 equation (22) 🌷"
   ]
  },
  {
   "cell_type": "code",
   "execution_count": 96,
   "id": "92acc521-c059-4e7a-af5b-1e467f61583c",
   "metadata": {},
   "outputs": [
    {
     "data": {
      "image/png": "[encoded data removed]",
      "text/latex": [
       "$\\displaystyle a \\left(k^{2} + 2 k + 1\\right) + b \\left(2 k^{2} - 2 k - 1\\right) + c \\left(- k^{2} + k - 1\\right) + d \\left(- 2 k^{2} - k + 1\\right)$"
      ],
      "text/plain": [
       "  ⎛ 2          ⎞     ⎛   2          ⎞     ⎛   2        ⎞     ⎛     2        ⎞\n",
       "a⋅⎝k  + 2⋅k + 1⎠ + b⋅⎝2⋅k  - 2⋅k - 1⎠ + c⋅⎝- k  + k - 1⎠ + d⋅⎝- 2⋅k  - k + 1⎠"
      ]
     },
     "execution_count": 96,
     "metadata": {},
     "output_type": "execute_result"
    }
   ],
   "source": [
    "flag_a = factor((1 - ratio)/omega)\n",
    "flag_a = factor(flag_a.subs({p_A: i/N, p_B: (N - i)/N}))\n",
    "flag_a = factor(flag_a.subs({i: N*x}))\n",
    "flag_a = fraction(factor(integrate(integrate(flag.subs({x: y}), (y, 0, x)), (x, 0, 1))))[0]\n",
    "flag_a = collect(collect(collect(collect(flag, a), b), c), d)\n",
    "flag_a"
   ]
  },
  {
   "cell_type": "markdown",
   "id": "b118d519-4ad3-44a2-a141-d6917fea4d8c",
   "metadata": {},
   "source": [
    "### 🌷 equation (23) 🌷"
   ]
  },
  {
   "cell_type": "code",
   "execution_count": 97,
   "id": "b28ba497-d956-45d9-a994-d1ba4101acb8",
   "metadata": {},
   "outputs": [
    {
     "data": {
      "image/png": "[encoded data removed]",
      "text/latex": [
       "$\\displaystyle a \\left(- 2 k^{2} - k + 1\\right) + b \\left(- k^{2} + k - 1\\right) + c \\left(2 k^{2} - 2 k - 1\\right) + d \\left(k^{2} + 2 k + 1\\right)$"
      ],
      "text/plain": [
       "  ⎛     2        ⎞     ⎛   2        ⎞     ⎛   2          ⎞     ⎛ 2          ⎞\n",
       "a⋅⎝- 2⋅k  - k + 1⎠ + b⋅⎝- k  + k - 1⎠ + c⋅⎝2⋅k  - 2⋅k - 1⎠ + d⋅⎝k  + 2⋅k + 1⎠"
      ]
     },
     "execution_count": 97,
     "metadata": {},
     "output_type": "execute_result"
    }
   ],
   "source": [
    "flag_b = flag_a.subs({a: R, b: S, c: T, d: P}).subs({R: d, S: c, T: b, P: a})\n",
    "flag_b"
   ]
  },
  {
   "cell_type": "markdown",
   "id": "57991ef5-37a7-4e9a-8437-1dbecb174abe",
   "metadata": {},
   "source": [
    "### 🌷 equation (24) 🌷"
   ]
  },
  {
   "cell_type": "code",
   "execution_count": 98,
   "id": "f715512d-0898-4321-a10f-5191e66df0b8",
   "metadata": {},
   "outputs": [
    {
     "data": {
      "image/png": "[encoded data removed]",
      "text/latex": [
       "$\\displaystyle \\frac{N k \\omega \\left(a k + a + b k - b - c k + c - d k - d\\right)}{2 \\left(k - 1\\right)} + 1$"
      ],
      "text/plain": [
       "N⋅k⋅ω⋅(a⋅k + a + b⋅k - b - c⋅k + c - d⋅k - d)    \n",
       "───────────────────────────────────────────── + 1\n",
       "                  2⋅(k - 1)                      "
      ]
     },
     "execution_count": 98,
     "metadata": {},
     "output_type": "execute_result"
    }
   ],
   "source": [
    "addition_B = addition_A.subs({a: R, b: S, c: T, d: P}).subs({R: d, S: c, T: b, P: a})\n",
    "r = ((1/N + addition_A)/(1/N + addition_B)).series(omega, x0 = 0, n = 2) # Taylor expansion\n",
    "r = r.removeO()\n",
    "r = 1 + factor(r - 1)\n",
    "r"
   ]
  },
  {
   "cell_type": "markdown",
   "id": "d2522d15-a86e-404b-be30-a9bb81ed6632",
   "metadata": {},
   "source": [
    "### 🌷 equation (25 - 26) 🌷"
   ]
  },
  {
   "cell_type": "code",
   "execution_count": 99,
   "id": "a2933872-5c27-4e1c-951a-572058305402",
   "metadata": {},
   "outputs": [
    {
     "data": {
      "image/png": "[encoded data removed]",
      "text/latex": [
       "$\\displaystyle 3 k \\left(b - c k\\right)$"
      ],
      "text/plain": [
       "3⋅k⋅(b - c⋅k)"
      ]
     },
     "execution_count": 99,
     "metadata": {},
     "output_type": "execute_result"
    }
   ],
   "source": [
    "flag_a_dg = flag_a.subs({a: R, b: S, c: T, d: P}).subs({R: b - c, S: - c, T: b, P: 0})\n",
    "flag_a_dg = factor(flag_a_dg)\n",
    "flag_a_dg"
   ]
  }
 ],
 "metadata": {
  "kernelspec": {
   "display_name": "Python 3 (ipykernel)",
   "language": "python",
   "name": "python3"
  },
  "language_info": {
   "codemirror_mode": {
    "name": "ipython",
    "version": 3
   },
   "file_extension": ".py",
   "mimetype": "text/x-python",
   "name": "python",
   "nbconvert_exporter": "python",
   "pygments_lexer": "ipython3",
   "version": "3.11.8"
  }
 },
 "nbformat": 4,
 "nbformat_minor": 5
}
