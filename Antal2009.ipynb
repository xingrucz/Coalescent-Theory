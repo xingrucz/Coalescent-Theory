{
 "cells": [
  {
   "cell_type": "markdown",
   "id": "98d9c4d9",
   "metadata": {},
   "source": [
    "# Mutation-selection equilibrium in games with multiple strategies"
   ]
  },
  {
   "cell_type": "markdown",
   "id": "464fec79",
   "metadata": {},
   "source": [
    "## Initialization"
   ]
  },
  {
   "cell_type": "code",
   "execution_count": 1,
   "id": "cd526d9b",
   "metadata": {},
   "outputs": [],
   "source": [
    "# import modules\n",
    "import numpy as np\n",
    "import pandas as pd\n",
    "import time\n",
    "from sympy import *\n",
    "from sympy.abc import i, j, k, N, n \n",
    "## compress warnings\n",
    "import warnings\n",
    "warnings.filterwarnings('ignore')"
   ]
  },
  {
   "cell_type": "code",
   "execution_count": 2,
   "id": "494f8394",
   "metadata": {},
   "outputs": [],
   "source": [
    "# save figures in the folder\n",
    "_Figure_PATH_ = './figures/'\n",
    "_Data_PATH_ = './data/'\n",
    "\n",
    "# default colors of matplotlib\n",
    "colors = ['C0', '#ff7f0e', '#2ca02c', '#d62728', '#9467bd', '#8c564b', '#e377c2', '#7f7f7f', '#bcbd22', \n",
    "          '#17becf']"
   ]
  },
  {
   "cell_type": "markdown",
   "id": "87d16d0d",
   "metadata": {},
   "source": [
    "## Symbolic Calculation"
   ]
  },
  {
   "cell_type": "code",
   "execution_count": 3,
   "id": "2325afef",
   "metadata": {},
   "outputs": [],
   "source": [
    "N, n = symbols('N, n', integer = True, positive = True) # population size # phenotype/strategy size\n",
    "delta = symbols('delta', positive = True) # selection strength\n",
    "u, mu = symbols('u, mu', positive = True) # mutation probability # mutation rate\n",
    "T, t, tau = symbols('T, t, tau', real = True) # time\n",
    "\n",
    "A = MatrixSymbol('A', n, n) # payoff matrix\n",
    "x = MatrixSymbol('x', n, 1) # frequency vector # x_k is the frequency of players using strategy k\n",
    "\n",
    "init_printing(use_unicode = True) # for a good presentation of mathematics"
   ]
  },
  {
   "cell_type": "code",
   "execution_count": 4,
   "id": "2162f848",
   "metadata": {},
   "outputs": [],
   "source": [
    "# mu = N*u\n",
    "# X = N*x\n",
    "# f = OneMatrix(n, 1) + delta*(MatMul(A, x))"
   ]
  },
  {
   "cell_type": "markdown",
   "id": "2e9393db",
   "metadata": {},
   "source": [
    "## Correlation\n",
    "\n",
    "* ### two individuals $s_2$\n",
    "    \n",
    "___\n",
    "\n",
    "* probability distribution function of coalescence time: $f_2(\\tau_2)$\n",
    "\n",
    "* probability of having the same strategy: $s_2^\\ast(\\tau_2)$\n",
    "\n",
    "> #### $f_2(\\tau) = e^{-\\tau} \\qquad s_2^\\ast(\\tau) = e^{-\\mu\\tau} + \\frac{1 - e^{-\\mu\\tau}}{n}$\n",
    "\n",
    "####\n",
    "\\begin{equation}\n",
    "s_2 = \\int_{0}^{+\\infty}s_2^\\ast(\\tau)f_2(\\tau)d\\tau = \\frac{n + \\mu}{n(1 + \\mu)}\n",
    "\\end{equation}"
   ]
  },
  {
   "cell_type": "code",
   "execution_count": 5,
   "id": "245b2fbd",
   "metadata": {},
   "outputs": [
    {
     "data": {
      "image/png": "[encoded data removed]",
      "text/latex": [
       "$\\displaystyle \\frac{\\mu + n}{n \\left(\\mu + 1\\right)}$"
      ],
      "text/plain": [
       "  μ + n  \n",
       "─────────\n",
       "n⋅(μ + 1)"
      ]
     },
     "execution_count": 5,
     "metadata": {},
     "output_type": "execute_result"
    }
   ],
   "source": [
    "f_2 = exp(-tau)\n",
    "s_2_ast = exp(-mu*tau) + (1 - exp(-mu*tau))/n\n",
    "s_2 = factor(integrate(s_2_ast*f_2, (tau, 0, oo)))\n",
    "s_2"
   ]
  },
  {
   "cell_type": "markdown",
   "id": "5149e2f7",
   "metadata": {},
   "source": [
    "* ### three individuals $s_3$\n",
    "\n",
    "___\n",
    "\n",
    "* probability distribution function of coalescence time: $f_3(\\tau_3)$\n",
    "* probability of having the same strategy\n",
    "    >\n",
    "    * three identical players: $s_3^\\ast(\\tau_3)$\n",
    "    * two identical players and one different player: $s_3^{\\ast\\ast}(\\tau_3)$\n",
    "    \n",
    "> #### $f_3(\\tau) = 3e^{-3\\tau}$\n",
    "    \n",
    "> #### $s_3^\\ast(\\tau) = \\frac{1}{n^2}[1 + 3(n - 1)e^{-\\mu\\tau} + (n - 1)(n - 2)e^{-3\\mu\\tau/2}]$\n",
    "\n",
    "> #### $s_3^{\\ast\\ast}(\\tau) = \\frac{1}{n^2}[1 + (n - 3)e^{-\\mu\\tau} - (n - 2)e^{-3\\mu\\tau/2}]$\n",
    "\n",
    "####\n",
    "\\begin{equation}\n",
    "s_3 = s_2 \\times \\int_{0}^{+\\infty}s_3^\\ast(\\tau)f_3(\\tau)d\\tau + (1 - s_2) \\times \\int_{0}^{+\\infty}s_3^{\\ast\\ast}(\\tau)f_3(\\tau)d\\tau = \\frac{(n + \\mu)(2n + \\mu)}{n^2(1 + \\mu)(2 + \\mu)}\n",
    "\\end{equation}"
   ]
  },
  {
   "cell_type": "code",
   "execution_count": 6,
   "id": "c6f63a45",
   "metadata": {},
   "outputs": [
    {
     "data": {
      "image/png": "[encoded data removed]",
      "text/latex": [
       "$\\displaystyle \\frac{\\left(\\mu + n\\right) \\left(\\mu + 2 n\\right)}{n^{2} \\left(\\mu + 1\\right) \\left(\\mu + 2\\right)}$"
      ],
      "text/plain": [
       "(μ + n)⋅(μ + 2⋅n) \n",
       "──────────────────\n",
       " 2                \n",
       "n ⋅(μ + 1)⋅(μ + 2)"
      ]
     },
     "execution_count": 6,
     "metadata": {},
     "output_type": "execute_result"
    }
   ],
   "source": [
    "f_3 = 3*exp(-3*tau)\n",
    "s_3_ast = 1/n**2*(1 + 3*(n - 1)*exp(-mu*tau) + (n - 1)*(n - 2)*exp(-3*mu*tau/2))\n",
    "s_3_astast = 1/n**2*(1 + (n - 3)*exp(-mu*tau) - (n - 2)*exp(-3*mu*tau/2))\n",
    "s_3 = factor(s_2*integrate(s_3_ast*f_3, (tau, 0, oo)) + (1 - s_2)*integrate(s_3_astast*f_3, (tau, 0, oo)))\n",
    "s_3"
   ]
  },
  {
   "cell_type": "markdown",
   "id": "2fb69d69",
   "metadata": {},
   "source": [
    "## Average\n",
    "\n",
    "* ### one individual: $\\langle x_k \\rangle = \\langle x_1 \\rangle$\n",
    "* ### two individuals\n",
    "    >\n",
    "    * two identical: $\\langle x_ix_i \\rangle = \\langle x_1x_1 \\rangle$\n",
    "    * two different: $\\langle x_ix_j \\rangle = \\langle x_1x_2 \\rangle$\n",
    "* ### three individuals\n",
    "    >\n",
    "    * three identical: $\\langle x_ix_ix_i \\rangle = \\langle x_1x_1x_1 \\rangle$\n",
    "    * two identical and one different: $\\langle x_ix_jx_j \\rangle = \\langle x_1x_2x_2 \\rangle$\n",
    "    * three different: $\\langle x_ix_jx_k \\rangle = \\langle x_1x_2x_3 \\rangle$\n",
    "    \n",
    "> #### $\\langle x_1 \\rangle = \\frac{1}{n}$\n",
    "\n",
    "> #### $\\langle x_1x_1 \\rangle = \\frac{s_2}{n} \\qquad \\langle x_1x_2 \\rangle = \\frac{1 - s_2}{n(n - 1)}$\n",
    "\n",
    "> #### $\\langle x_1x_1x_1 \\rangle = \\frac{s_3}{n} \\qquad \\langle x_1x_2x_2 \\rangle = \\frac{s_2 - s_3}{n(n - 1)} \\qquad \\langle x_1x_2x_3 \\rangle = \\frac{1 - 3s_2 + 2s_3}{n(n - 1)(n - 2)}$"
   ]
  },
  {
   "cell_type": "code",
   "execution_count": 7,
   "id": "6fc91168",
   "metadata": {},
   "outputs": [],
   "source": [
    "x_1 = 1/n\n",
    "x_1x_1, x_1x_2 = s_2/n, (1 - s_2)/(n*(n - 1))\n",
    "x_1x_1x_1, x_1x_2x_2, x_1x_2x_3 = s_3/n, (s_2 - s_3)/(n*(n - 1)), (1 - 3*s_2 + 2*s_3)/(n*(n - 1)*(n - 2))"
   ]
  },
  {
   "cell_type": "markdown",
   "id": "db0383d0",
   "metadata": {},
   "source": [
    "## Abundance\n",
    "\n",
    "* average change of type $k$\n",
    "\n",
    "* abundance of type $k$"
   ]
  },
  {
   "cell_type": "code",
   "execution_count": 8,
   "id": "5cdb36b4",
   "metadata": {},
   "outputs": [],
   "source": [
    "X = hadamard_product(FunctionMatrix(n, 1, Lambda((i, j), N)), x) # number vector # X_k is the number of players using strategy k\n",
    "f = OneMatrix(n, 1) + hadamard_product(FunctionMatrix(n, 1, Lambda((i, j), delta)), MatMul(A, x)) # payoff (fitness) vector\n",
    "F = MatMul(X.transpose(), f)"
   ]
  },
  {
   "cell_type": "code",
   "execution_count": 9,
   "id": "ad5b7c35",
   "metadata": {},
   "outputs": [],
   "source": [
    "w = OneMatrix(n, 1) - OneMatrix(n, 1)/N + f/F # average number of offspring vector\n",
    "x_sel = hadamard_product(x, w) - x # equation (1.11) before Taylor expansion"
   ]
  },
  {
   "cell_type": "code",
   "execution_count": 10,
   "id": "c0b119e7-25c9-4e87-94f6-ec1a3b1285dc",
   "metadata": {},
   "outputs": [],
   "source": [
    "sum_row = Sum(A[k, i]*OneMatrix(n, 1)[i, 0], (i, 0, n-1))\n",
    "sum_column = Sum(A[i, k]*OneMatrix(n, 1)[i, 0], (i, 0, n-1))\n",
    "sum_diagonal = Sum(A[i, i]*OneMatrix(n, 1)[i, 0], (i, 0, n-1))\n",
    "sum_matrix = Sum(A[i, j], (i, 0, n-1), (j, 0, n - 1))\n",
    "x_k_diff = 1/N*delta*(x_1x_1*A[k, k] \n",
    "                      + x_1x_2*(sum_row - A[k, k])\n",
    "                      - x_1x_1x_1*A[k, k] \n",
    "                      - x_1x_2x_2*(sum_row + sum_column + sum_diagonal - 3*A[k, k]) \n",
    "                      - x_1x_2x_3*(sum_matrix - sum_row - sum_column - sum_diagonal + 2*A[k, k]))\n",
    "x_k_diff = factor(x_k_diff)\n",
    "x_k = 1/n + N*(1 - u)/u*x_k_diff"
   ]
  },
  {
   "cell_type": "code",
   "execution_count": 11,
   "id": "7c829d6e-2839-437e-b3b4-b6a220313934",
   "metadata": {},
   "outputs": [
    {
     "data": {
      "image/png": "[encoded data removed]",
      "text/latex": [
       "$\\displaystyle \\frac{\\delta \\mu \\left(\\mu n \\sum_{i=0}^{n - 1} A_{k, i} - \\mu \\sum_{\\substack{0 \\leq i \\leq n - 1\\\\0 \\leq j \\leq n - 1}} A_{i, j} + n^{2} A_{k, k} - n \\sum_{i=0}^{n - 1} A_{i, i} - n \\sum_{i=0}^{n - 1} A_{i, k} + n \\sum_{i=0}^{n - 1} A_{k, i}\\right)}{N n^{3} \\left(\\mu + 1\\right) \\left(\\mu + 2\\right)}$"
      ],
      "text/plain": [
       "    ⎛    n - 1               n - 1 n - 1                              n - 1   \n",
       "    ⎜     ___                 ___   ___                                ___    \n",
       "    ⎜     ╲                   ╲     ╲                                  ╲      \n",
       "    ⎜      ╲                   ╲     ╲                2                 ╲     \n",
       "δ⋅μ⋅⎜μ⋅n⋅  ╱   (A)[k, i] - μ⋅  ╱     ╱   (A)[i, j] + n ⋅(A)[k, k] - n⋅  ╱   (A\n",
       "    ⎜     ╱                   ╱     ╱                                  ╱      \n",
       "    ⎜     ‾‾‾                 ‾‾‾   ‾‾‾                                ‾‾‾    \n",
       "    ⎝    i = 0               j = 0 i = 0                              i = 0   \n",
       "──────────────────────────────────────────────────────────────────────────────\n",
       "                                                        3                     \n",
       "                                                     N⋅n ⋅(μ + 1)⋅(μ + 2)     \n",
       "\n",
       "            n - 1               n - 1          ⎞\n",
       "             ___                 ___           ⎟\n",
       "             ╲                   ╲             ⎟\n",
       "              ╲                   ╲            ⎟\n",
       ")[i, i] - n⋅  ╱   (A)[i, k] + n⋅  ╱   (A)[k, i]⎟\n",
       "             ╱                   ╱             ⎟\n",
       "             ‾‾‾                 ‾‾‾           ⎟\n",
       "            i = 0               i = 0          ⎠\n",
       "────────────────────────────────────────────────\n",
       "                                                \n",
       "                                                "
      ]
     },
     "execution_count": 11,
     "metadata": {},
     "output_type": "execute_result"
    }
   ],
   "source": [
    "x_k_diff"
   ]
  },
  {
   "cell_type": "code",
   "execution_count": 12,
   "id": "a0e509b0-9eb9-4d1f-a26b-00d409bba197",
   "metadata": {},
   "outputs": [],
   "source": [
    "L_k = 1/n*Sum((A[k, k] + A[k, i] - A[i, k] - A[i, i])*OneMatrix(n, 1)[i, 0], (i, 0, n - 1))\n",
    "H_k = 1/n**2*Sum((A[k, j] - A[i, j]), (i, 0, n-1), (j, 0, n - 1))"
   ]
  },
  {
   "cell_type": "code",
   "execution_count": 13,
   "id": "28bbbe7c-287d-4b85-bd9b-b51005349b89",
   "metadata": {},
   "outputs": [
    {
     "data": {
      "image/png": "[encoded data removed]",
      "text/latex": [
       "$\\displaystyle \\frac{\\delta \\mu^{2} \\left(\\sum_{i=0}^{n - 1} A_{k, i} - \\sum_{j=0}^{n - 1} A_{k, j}\\right)}{N n^{2} \\left(\\mu + 1\\right) \\left(\\mu + 2\\right)}$"
      ],
      "text/plain": [
       "     ⎛n - 1             n - 1          ⎞\n",
       "     ⎜ ___               ___           ⎟\n",
       "     ⎜ ╲                 ╲             ⎟\n",
       "   2 ⎜  ╲                 ╲            ⎟\n",
       "δ⋅μ ⋅⎜  ╱   (A)[k, i] -   ╱   (A)[k, j]⎟\n",
       "     ⎜ ╱                 ╱             ⎟\n",
       "     ⎜ ‾‾‾               ‾‾‾           ⎟\n",
       "     ⎝i = 0             j = 0          ⎠\n",
       "────────────────────────────────────────\n",
       "             2                          \n",
       "          N⋅n ⋅(μ + 1)⋅(μ + 2)          "
      ]
     },
     "execution_count": 13,
     "metadata": {},
     "output_type": "execute_result"
    }
   ],
   "source": [
    "flag = x_k_diff - delta*mu*(L_k + mu*H_k)/(n*N*(1 + mu)*(2 + mu))\n",
    "flag = factor(cancel(simplify(flag)))\n",
    "flag"
   ]
  },
  {
   "cell_type": "code",
   "execution_count": 14,
   "id": "e417d234-ebe6-4872-82bd-5af20394c66a",
   "metadata": {},
   "outputs": [
    {
     "data": {
      "image/png": "[encoded data removed]",
      "text/latex": [
       "$\\displaystyle 0$"
      ],
      "text/plain": [
       "0"
      ]
     },
     "execution_count": 14,
     "metadata": {},
     "output_type": "execute_result"
    }
   ],
   "source": [
    "flag.subs(Sum(A[k, j], (j, 0, n - 1)), Sum(A[k, i], (i, 0, n - 1)))"
   ]
  }
 ],
 "metadata": {
  "kernelspec": {
   "display_name": "Python 3 (ipykernel)",
   "language": "python",
   "name": "python3"
  },
  "language_info": {
   "codemirror_mode": {
    "name": "ipython",
    "version": 3
   },
   "file_extension": ".py",
   "mimetype": "text/x-python",
   "name": "python",
   "nbconvert_exporter": "python",
   "pygments_lexer": "ipython3",
   "version": "3.11.8"
  }
 },
 "nbformat": 4,
 "nbformat_minor": 5
}
